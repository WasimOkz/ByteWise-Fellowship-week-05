{
 "cells": [
  {
   "cell_type": "code",
   "execution_count": 23,
   "metadata": {},
   "outputs": [
    {
     "data": {
      "text/plain": [
       "False"
      ]
     },
     "execution_count": 23,
     "metadata": {},
     "output_type": "execute_result"
    }
   ],
   "source": [
    "#1. Write a program to test whether none of the elements of a given numpy array is zero.\n",
    "\n",
    "import numpy as np\n",
    "\n",
    "test_array = np.array([1,3,-2,5,0,11,0,12])\n",
    "\n",
    "def test(array):\n",
    "    for i in range(len(test_array)):\n",
    "        if test_array[i]==0:\n",
    "            return True\n",
    "        else:\n",
    "            return False\n",
    "        \n",
    "test(test_array)"
   ]
  },
  {
   "cell_type": "code",
   "execution_count": 33,
   "metadata": {},
   "outputs": [],
   "source": [
    "#2. Write a python program to create an element-wise comparison (greater, greater_equal, less and\n",
    "# less_equal) of two given numpy arrays.\n",
    "\n",
    "x_array = np.array([3,1,6,7,0])\n",
    "y_array = np.array([7,8,-1,2,0])\n",
    "\n",
    "\n",
    "list1 = []\n",
    "\n",
    "for i in range(len(x_array)):\n",
    "    if x_array[i] > y_array[i]:\n",
    "        list1.append('Greater')\n",
    "    elif x_array[i] > y_array[i] and x_array[i] == y_array[i]:\n",
    "        list1.append('Greater_equal')\n",
    "    elif x_array[i] < y_array[i]:\n",
    "        list1.append('Less')\n",
    "    elif x_array[i] == x_array[i]:\n",
    "        list1.append('Equal')\n",
    "    else:\n",
    "        list1.append('Less_equal')\n",
    "        "
   ]
  },
  {
   "cell_type": "code",
   "execution_count": 34,
   "metadata": {},
   "outputs": [
    {
     "data": {
      "text/plain": [
       "['Less', 'Less', 'Greater', 'Greater', 'Equal']"
      ]
     },
     "execution_count": 34,
     "metadata": {},
     "output_type": "execute_result"
    }
   ],
   "source": [
    "list1"
   ]
  },
  {
   "cell_type": "code",
   "execution_count": 42,
   "metadata": {},
   "outputs": [
    {
     "data": {
      "text/plain": [
       "array([[ 2,  3,  4],\n",
       "       [ 5,  6,  7],\n",
       "       [ 8,  9, 10]])"
      ]
     },
     "execution_count": 42,
     "metadata": {},
     "output_type": "execute_result"
    }
   ],
   "source": [
    "#3. Write a program to create a 3x3 numpy matrix with values ranging from 2 to 10.\n",
    "\n",
    "matrix_array = np.arange(2,11).reshape(3,3)\n",
    "\n",
    "matrix_array"
   ]
  },
  {
   "cell_type": "code",
   "execution_count": 52,
   "metadata": {},
   "outputs": [
    {
     "name": "stdout",
     "output_type": "stream",
     "text": [
      "[1, 5, 7]\n"
     ]
    }
   ],
   "source": [
    "#4. Write a program that takes a 2D numpy array as input and returns a new array containing only\n",
    "# the even-indexed rows and columns.\n",
    "\n",
    "array_1 = np.array([[1,3,5,6,7],\n",
    "                   \n",
    "                   [8,9,2,0,10]])\n",
    "new_array = []\n",
    "for i in range(len(array_1)):\n",
    "    for j in range(len(array_1[i])):\n",
    "        \n",
    "        if i%2 == 0 and j%2==0:\n",
    "            new_array.append(array_1[i][j])\n",
    "            \n",
    "print(new_array)"
   ]
  },
  {
   "cell_type": "code",
   "execution_count": 66,
   "metadata": {},
   "outputs": [
    {
     "data": {
      "text/plain": [
       "array([[1., 1., 1., 1., 1., 1., 1., 1.],\n",
       "       [1., 0., 0., 0., 0., 0., 0., 1.],\n",
       "       [1., 0., 0., 0., 0., 0., 0., 1.],\n",
       "       [1., 0., 0., 0., 0., 0., 0., 1.],\n",
       "       [1., 0., 0., 0., 0., 0., 0., 1.],\n",
       "       [1., 0., 0., 0., 0., 0., 0., 1.],\n",
       "       [1., 0., 0., 0., 0., 0., 0., 1.],\n",
       "       [1., 0., 0., 0., 0., 0., 0., 1.],\n",
       "       [1., 0., 0., 0., 0., 0., 0., 1.],\n",
       "       [1., 1., 1., 1., 1., 1., 1., 1.]])"
      ]
     },
     "execution_count": 66,
     "metadata": {},
     "output_type": "execute_result"
    }
   ],
   "source": [
    "#5. Write a program to create a 2D numpy array with 1 on the border and 0 inside.\n",
    "\n",
    "\n",
    "\n",
    "row = 10\n",
    "cols = 8\n",
    "\n",
    "\n",
    "array = np.zeros((row,cols))\n",
    "\n",
    "\n",
    "array[0,:]=1\n",
    "array[-1,:]=1\n",
    "array[:,0]=1\n",
    "array[:,-1]=1\n",
    "array"
   ]
  },
  {
   "cell_type": "code",
   "execution_count": 59,
   "metadata": {},
   "outputs": [
    {
     "data": {
      "text/plain": [
       "array([[[ 0, 44,  6,  0,  0],\n",
       "        [ 0,  2,  0,  8,  0],\n",
       "        [ 0,  6,  0,  0, 34]]])"
      ]
     },
     "execution_count": 59,
     "metadata": {},
     "output_type": "execute_result"
    }
   ],
   "source": [
    "#6. Write a program that replace all odd number in a 3D numpy array with 0.\n",
    "\n",
    "array = np.array([[[1,44,6,7,0],[9,2,5,8,11],[11,6,53,23,34]]])\n",
    "\n",
    "for i in range(len(array)):\n",
    "    for j in range(len(array[i])):\n",
    "        for z in range(len(array[i][j])):\n",
    "            \n",
    "            if array[i][j][z] % 2 == 0:\n",
    "                pass\n",
    "            else:\n",
    "                array[i][j][z] = 0\n",
    "                \n",
    "array"
   ]
  }
 ],
 "metadata": {
  "kernelspec": {
   "display_name": "Python 3",
   "language": "python",
   "name": "python3"
  },
  "language_info": {
   "codemirror_mode": {
    "name": "ipython",
    "version": 3
   },
   "file_extension": ".py",
   "mimetype": "text/x-python",
   "name": "python",
   "nbconvert_exporter": "python",
   "pygments_lexer": "ipython3",
   "version": "3.7.4"
  }
 },
 "nbformat": 4,
 "nbformat_minor": 2
}
